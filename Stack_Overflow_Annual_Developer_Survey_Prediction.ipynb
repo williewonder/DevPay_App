{
  "cells": [
    {
      "cell_type": "code",
      "execution_count": null,
      "id": "591fa388",
      "metadata": {
        "id": "591fa388"
      },
      "outputs": [
        {
          "ename": "",
          "evalue": "",
          "output_type": "error",
          "traceback": [
            "\u001b[1;31mFailed to start the Kernel. \n",
            "\u001b[1;31mFailed to start the Kernel 'anaconda3 (Python 3.8.8)'. \n",
            "View Jupyter <a href='command:jupyter.viewOutput'>log</a> for further details. Interrupted system call"
          ]
        }
      ],
      "source": [
        "import os\n",
        "import zipfile\n",
        "\n",
        "import pandas as pd\n",
        "import matplotlib.pyplot as plt"
      ]
    },
    {
      "cell_type": "markdown",
      "id": "nph5DpZ0rdm9",
      "metadata": {
        "id": "nph5DpZ0rdm9"
      },
      "source": [
        "With over 70,000 responses fielded from over 180 countries, our Annual Developer Survey examines all aspects of the developer experience from learning to code to their favorite technologies to version control and the workplace experience of professional developers.\n",
        "\n",
        "https://insights.stackoverflow.com/survey"
      ]
    },
    {
      "cell_type": "code",
      "execution_count": 2,
      "id": "qsXPKJu8pz9T",
      "metadata": {
        "colab": {
          "base_uri": "https://localhost:8080/"
        },
        "id": "qsXPKJu8pz9T",
        "outputId": "54399686-b656-442b-b33b-0579e763fb65"
      },
      "outputs": [
        {
          "name": "stdout",
          "output_type": "stream",
          "text": [
            "--2022-08-16 17:26:25--  https://info.stackoverflowsolutions.com/rs/719-EMH-566/images/stack-overflow-developer-survey-2022.zip\n",
            "Resolving info.stackoverflowsolutions.com (info.stackoverflowsolutions.com)... 104.17.72.206, 104.17.71.206, 104.17.74.206, ...\n",
            "Connecting to info.stackoverflowsolutions.com (info.stackoverflowsolutions.com)|104.17.72.206|:443... connected.\n",
            "HTTP request sent, awaiting response... 200 OK\n",
            "Length: 12089826 (12M) [application/zip]\n",
            "Saving to: ‘stack-overflow-developer-survey-2022.zip’\n",
            "\n",
            "stack-overflow-deve 100%[===================>]  11.53M  13.7MB/s    in 0.8s    \n",
            "\n",
            "2022-08-16 17:26:26 (13.7 MB/s) - ‘stack-overflow-developer-survey-2022.zip’ saved [12089826/12089826]\n",
            "\n"
          ]
        }
      ],
      "source": [
        "# Get the 2022 Stack Overflow Annual Developer Survey\n",
        "!wget https://info.stackoverflowsolutions.com/rs/719-EMH-566/images/stack-overflow-developer-survey-2022.zip"
      ]
    },
    {
      "cell_type": "code",
      "execution_count": 3,
      "id": "zYv2ED6nqym8",
      "metadata": {
        "colab": {
          "base_uri": "https://localhost:8080/"
        },
        "id": "zYv2ED6nqym8",
        "outputId": "cd4d8715-b0d8-47fd-bdba-1c42a210efd7"
      },
      "outputs": [
        {
          "name": "stdout",
          "output_type": "stream",
          "text": [
            "Archive:  stack-overflow-developer-survey-2022.zip\n",
            "  inflating: README_2022.txt         \n",
            "  inflating: so_survey_2022.pdf      \n",
            "  inflating: survey_results_public.csv  \n",
            "  inflating: survey_results_schema.csv  \n"
          ]
        }
      ],
      "source": [
        "# Unzip the 2022 Stack Overflow Annual Developer Survey\n",
        "!unzip stack-overflow-developer-survey-2022.zip"
      ]
    },
    {
      "cell_type": "code",
      "execution_count": 3,
      "id": "ZZ6a7hVvqEM2",
      "metadata": {
        "id": "ZZ6a7hVvqEM2"
      },
      "outputs": [],
      "source": []
    },
    {
      "cell_type": "code",
      "execution_count": 4,
      "id": "d6dde6ba",
      "metadata": {
        "colab": {
          "base_uri": "https://localhost:8080/",
          "height": 612
        },
        "id": "d6dde6ba",
        "outputId": "56e89acc-a92f-413e-a27c-55b7ff1d6f89"
      },
      "outputs": [
        {
          "data": {
            "text/html": [
              "\n",
              "  <div id=\"df-ffc6920a-75bc-47e6-8438-f4101a414cec\">\n",
              "    <div class=\"colab-df-container\">\n",
              "      <div>\n",
              "<style scoped>\n",
              "    .dataframe tbody tr th:only-of-type {\n",
              "        vertical-align: middle;\n",
              "    }\n",
              "\n",
              "    .dataframe tbody tr th {\n",
              "        vertical-align: top;\n",
              "    }\n",
              "\n",
              "    .dataframe thead th {\n",
              "        text-align: right;\n",
              "    }\n",
              "</style>\n",
              "<table border=\"1\" class=\"dataframe\">\n",
              "  <thead>\n",
              "    <tr style=\"text-align: right;\">\n",
              "      <th></th>\n",
              "      <th>ResponseId</th>\n",
              "      <th>MainBranch</th>\n",
              "      <th>Employment</th>\n",
              "      <th>RemoteWork</th>\n",
              "      <th>CodingActivities</th>\n",
              "      <th>EdLevel</th>\n",
              "      <th>LearnCode</th>\n",
              "      <th>LearnCodeOnline</th>\n",
              "      <th>LearnCodeCoursesCert</th>\n",
              "      <th>YearsCode</th>\n",
              "      <th>...</th>\n",
              "      <th>TimeSearching</th>\n",
              "      <th>TimeAnswering</th>\n",
              "      <th>Onboarding</th>\n",
              "      <th>ProfessionalTech</th>\n",
              "      <th>TrueFalse_1</th>\n",
              "      <th>TrueFalse_2</th>\n",
              "      <th>TrueFalse_3</th>\n",
              "      <th>SurveyLength</th>\n",
              "      <th>SurveyEase</th>\n",
              "      <th>ConvertedCompYearly</th>\n",
              "    </tr>\n",
              "  </thead>\n",
              "  <tbody>\n",
              "    <tr>\n",
              "      <th>0</th>\n",
              "      <td>1</td>\n",
              "      <td>None of these</td>\n",
              "      <td>NaN</td>\n",
              "      <td>NaN</td>\n",
              "      <td>NaN</td>\n",
              "      <td>NaN</td>\n",
              "      <td>NaN</td>\n",
              "      <td>NaN</td>\n",
              "      <td>NaN</td>\n",
              "      <td>NaN</td>\n",
              "      <td>...</td>\n",
              "      <td>NaN</td>\n",
              "      <td>NaN</td>\n",
              "      <td>NaN</td>\n",
              "      <td>NaN</td>\n",
              "      <td>NaN</td>\n",
              "      <td>NaN</td>\n",
              "      <td>NaN</td>\n",
              "      <td>NaN</td>\n",
              "      <td>NaN</td>\n",
              "      <td>NaN</td>\n",
              "    </tr>\n",
              "    <tr>\n",
              "      <th>1</th>\n",
              "      <td>2</td>\n",
              "      <td>I am a developer by profession</td>\n",
              "      <td>Employed, full-time</td>\n",
              "      <td>Fully remote</td>\n",
              "      <td>Hobby;Contribute to open-source projects</td>\n",
              "      <td>NaN</td>\n",
              "      <td>NaN</td>\n",
              "      <td>NaN</td>\n",
              "      <td>NaN</td>\n",
              "      <td>NaN</td>\n",
              "      <td>...</td>\n",
              "      <td>NaN</td>\n",
              "      <td>NaN</td>\n",
              "      <td>NaN</td>\n",
              "      <td>NaN</td>\n",
              "      <td>NaN</td>\n",
              "      <td>NaN</td>\n",
              "      <td>NaN</td>\n",
              "      <td>Too long</td>\n",
              "      <td>Difficult</td>\n",
              "      <td>NaN</td>\n",
              "    </tr>\n",
              "    <tr>\n",
              "      <th>2</th>\n",
              "      <td>3</td>\n",
              "      <td>I am not primarily a developer, but I write co...</td>\n",
              "      <td>Employed, full-time</td>\n",
              "      <td>Hybrid (some remote, some in-person)</td>\n",
              "      <td>Hobby</td>\n",
              "      <td>Master’s degree (M.A., M.S., M.Eng., MBA, etc.)</td>\n",
              "      <td>Books / Physical media;Friend or family member...</td>\n",
              "      <td>Technical documentation;Blogs;Programming Game...</td>\n",
              "      <td>NaN</td>\n",
              "      <td>14</td>\n",
              "      <td>...</td>\n",
              "      <td>NaN</td>\n",
              "      <td>NaN</td>\n",
              "      <td>NaN</td>\n",
              "      <td>NaN</td>\n",
              "      <td>NaN</td>\n",
              "      <td>NaN</td>\n",
              "      <td>NaN</td>\n",
              "      <td>Appropriate in length</td>\n",
              "      <td>Neither easy nor difficult</td>\n",
              "      <td>40205.0</td>\n",
              "    </tr>\n",
              "    <tr>\n",
              "      <th>3</th>\n",
              "      <td>4</td>\n",
              "      <td>I am a developer by profession</td>\n",
              "      <td>Employed, full-time</td>\n",
              "      <td>Fully remote</td>\n",
              "      <td>I don’t code outside of work</td>\n",
              "      <td>Bachelor’s degree (B.A., B.S., B.Eng., etc.)</td>\n",
              "      <td>Books / Physical media;School (i.e., Universit...</td>\n",
              "      <td>NaN</td>\n",
              "      <td>NaN</td>\n",
              "      <td>20</td>\n",
              "      <td>...</td>\n",
              "      <td>NaN</td>\n",
              "      <td>NaN</td>\n",
              "      <td>NaN</td>\n",
              "      <td>NaN</td>\n",
              "      <td>NaN</td>\n",
              "      <td>NaN</td>\n",
              "      <td>NaN</td>\n",
              "      <td>Appropriate in length</td>\n",
              "      <td>Easy</td>\n",
              "      <td>215232.0</td>\n",
              "    </tr>\n",
              "    <tr>\n",
              "      <th>4</th>\n",
              "      <td>5</td>\n",
              "      <td>I am a developer by profession</td>\n",
              "      <td>Employed, full-time</td>\n",
              "      <td>Hybrid (some remote, some in-person)</td>\n",
              "      <td>Hobby</td>\n",
              "      <td>Bachelor’s degree (B.A., B.S., B.Eng., etc.)</td>\n",
              "      <td>Other online resources (e.g., videos, blogs, f...</td>\n",
              "      <td>Technical documentation;Blogs;Stack Overflow;O...</td>\n",
              "      <td>NaN</td>\n",
              "      <td>8</td>\n",
              "      <td>...</td>\n",
              "      <td>NaN</td>\n",
              "      <td>NaN</td>\n",
              "      <td>NaN</td>\n",
              "      <td>NaN</td>\n",
              "      <td>NaN</td>\n",
              "      <td>NaN</td>\n",
              "      <td>NaN</td>\n",
              "      <td>Too long</td>\n",
              "      <td>Easy</td>\n",
              "      <td>NaN</td>\n",
              "    </tr>\n",
              "  </tbody>\n",
              "</table>\n",
              "<p>5 rows × 79 columns</p>\n",
              "</div>\n",
              "      <button class=\"colab-df-convert\" onclick=\"convertToInteractive('df-ffc6920a-75bc-47e6-8438-f4101a414cec')\"\n",
              "              title=\"Convert this dataframe to an interactive table.\"\n",
              "              style=\"display:none;\">\n",
              "        \n",
              "  <svg xmlns=\"http://www.w3.org/2000/svg\" height=\"24px\"viewBox=\"0 0 24 24\"\n",
              "       width=\"24px\">\n",
              "    <path d=\"M0 0h24v24H0V0z\" fill=\"none\"/>\n",
              "    <path d=\"M18.56 5.44l.94 2.06.94-2.06 2.06-.94-2.06-.94-.94-2.06-.94 2.06-2.06.94zm-11 1L8.5 8.5l.94-2.06 2.06-.94-2.06-.94L8.5 2.5l-.94 2.06-2.06.94zm10 10l.94 2.06.94-2.06 2.06-.94-2.06-.94-.94-2.06-.94 2.06-2.06.94z\"/><path d=\"M17.41 7.96l-1.37-1.37c-.4-.4-.92-.59-1.43-.59-.52 0-1.04.2-1.43.59L10.3 9.45l-7.72 7.72c-.78.78-.78 2.05 0 2.83L4 21.41c.39.39.9.59 1.41.59.51 0 1.02-.2 1.41-.59l7.78-7.78 2.81-2.81c.8-.78.8-2.07 0-2.86zM5.41 20L4 18.59l7.72-7.72 1.47 1.35L5.41 20z\"/>\n",
              "  </svg>\n",
              "      </button>\n",
              "      \n",
              "  <style>\n",
              "    .colab-df-container {\n",
              "      display:flex;\n",
              "      flex-wrap:wrap;\n",
              "      gap: 12px;\n",
              "    }\n",
              "\n",
              "    .colab-df-convert {\n",
              "      background-color: #E8F0FE;\n",
              "      border: none;\n",
              "      border-radius: 50%;\n",
              "      cursor: pointer;\n",
              "      display: none;\n",
              "      fill: #1967D2;\n",
              "      height: 32px;\n",
              "      padding: 0 0 0 0;\n",
              "      width: 32px;\n",
              "    }\n",
              "\n",
              "    .colab-df-convert:hover {\n",
              "      background-color: #E2EBFA;\n",
              "      box-shadow: 0px 1px 2px rgba(60, 64, 67, 0.3), 0px 1px 3px 1px rgba(60, 64, 67, 0.15);\n",
              "      fill: #174EA6;\n",
              "    }\n",
              "\n",
              "    [theme=dark] .colab-df-convert {\n",
              "      background-color: #3B4455;\n",
              "      fill: #D2E3FC;\n",
              "    }\n",
              "\n",
              "    [theme=dark] .colab-df-convert:hover {\n",
              "      background-color: #434B5C;\n",
              "      box-shadow: 0px 1px 3px 1px rgba(0, 0, 0, 0.15);\n",
              "      filter: drop-shadow(0px 1px 2px rgba(0, 0, 0, 0.3));\n",
              "      fill: #FFFFFF;\n",
              "    }\n",
              "  </style>\n",
              "\n",
              "      <script>\n",
              "        const buttonEl =\n",
              "          document.querySelector('#df-ffc6920a-75bc-47e6-8438-f4101a414cec button.colab-df-convert');\n",
              "        buttonEl.style.display =\n",
              "          google.colab.kernel.accessAllowed ? 'block' : 'none';\n",
              "\n",
              "        async function convertToInteractive(key) {\n",
              "          const element = document.querySelector('#df-ffc6920a-75bc-47e6-8438-f4101a414cec');\n",
              "          const dataTable =\n",
              "            await google.colab.kernel.invokeFunction('convertToInteractive',\n",
              "                                                     [key], {});\n",
              "          if (!dataTable) return;\n",
              "\n",
              "          const docLinkHtml = 'Like what you see? Visit the ' +\n",
              "            '<a target=\"_blank\" href=https://colab.research.google.com/notebooks/data_table.ipynb>data table notebook</a>'\n",
              "            + ' to learn more about interactive tables.';\n",
              "          element.innerHTML = '';\n",
              "          dataTable['output_type'] = 'display_data';\n",
              "          await google.colab.output.renderOutput(dataTable, element);\n",
              "          const docLink = document.createElement('div');\n",
              "          docLink.innerHTML = docLinkHtml;\n",
              "          element.appendChild(docLink);\n",
              "        }\n",
              "      </script>\n",
              "    </div>\n",
              "  </div>\n",
              "  "
            ],
            "text/plain": [
              "   ResponseId                                         MainBranch  \\\n",
              "0           1                                      None of these   \n",
              "1           2                     I am a developer by profession   \n",
              "2           3  I am not primarily a developer, but I write co...   \n",
              "3           4                     I am a developer by profession   \n",
              "4           5                     I am a developer by profession   \n",
              "\n",
              "            Employment                            RemoteWork  \\\n",
              "0                  NaN                                   NaN   \n",
              "1  Employed, full-time                          Fully remote   \n",
              "2  Employed, full-time  Hybrid (some remote, some in-person)   \n",
              "3  Employed, full-time                          Fully remote   \n",
              "4  Employed, full-time  Hybrid (some remote, some in-person)   \n",
              "\n",
              "                           CodingActivities  \\\n",
              "0                                       NaN   \n",
              "1  Hobby;Contribute to open-source projects   \n",
              "2                                     Hobby   \n",
              "3              I don’t code outside of work   \n",
              "4                                     Hobby   \n",
              "\n",
              "                                           EdLevel  \\\n",
              "0                                              NaN   \n",
              "1                                              NaN   \n",
              "2  Master’s degree (M.A., M.S., M.Eng., MBA, etc.)   \n",
              "3     Bachelor’s degree (B.A., B.S., B.Eng., etc.)   \n",
              "4     Bachelor’s degree (B.A., B.S., B.Eng., etc.)   \n",
              "\n",
              "                                           LearnCode  \\\n",
              "0                                                NaN   \n",
              "1                                                NaN   \n",
              "2  Books / Physical media;Friend or family member...   \n",
              "3  Books / Physical media;School (i.e., Universit...   \n",
              "4  Other online resources (e.g., videos, blogs, f...   \n",
              "\n",
              "                                     LearnCodeOnline LearnCodeCoursesCert  \\\n",
              "0                                                NaN                  NaN   \n",
              "1                                                NaN                  NaN   \n",
              "2  Technical documentation;Blogs;Programming Game...                  NaN   \n",
              "3                                                NaN                  NaN   \n",
              "4  Technical documentation;Blogs;Stack Overflow;O...                  NaN   \n",
              "\n",
              "  YearsCode  ... TimeSearching TimeAnswering Onboarding ProfessionalTech  \\\n",
              "0       NaN  ...           NaN           NaN        NaN              NaN   \n",
              "1       NaN  ...           NaN           NaN        NaN              NaN   \n",
              "2        14  ...           NaN           NaN        NaN              NaN   \n",
              "3        20  ...           NaN           NaN        NaN              NaN   \n",
              "4         8  ...           NaN           NaN        NaN              NaN   \n",
              "\n",
              "  TrueFalse_1 TrueFalse_2 TrueFalse_3           SurveyLength  \\\n",
              "0         NaN         NaN         NaN                    NaN   \n",
              "1         NaN         NaN         NaN               Too long   \n",
              "2         NaN         NaN         NaN  Appropriate in length   \n",
              "3         NaN         NaN         NaN  Appropriate in length   \n",
              "4         NaN         NaN         NaN               Too long   \n",
              "\n",
              "                   SurveyEase ConvertedCompYearly  \n",
              "0                         NaN                 NaN  \n",
              "1                   Difficult                 NaN  \n",
              "2  Neither easy nor difficult             40205.0  \n",
              "3                        Easy            215232.0  \n",
              "4                        Easy                 NaN  \n",
              "\n",
              "[5 rows x 79 columns]"
            ]
          },
          "execution_count": 4,
          "metadata": {},
          "output_type": "execute_result"
        }
      ],
      "source": [
        "df = pd.read_csv(\"survey_results_public.csv\")\n",
        "df.head()"
      ]
    },
    {
      "cell_type": "code",
      "execution_count": 5,
      "id": "d52b06ab",
      "metadata": {
        "colab": {
          "base_uri": "https://localhost:8080/"
        },
        "id": "d52b06ab",
        "outputId": "fa6c80d4-1c1b-4eb0-e166-d40a90b032eb"
      },
      "outputs": [
        {
          "data": {
            "text/plain": [
              "Index(['ResponseId', 'MainBranch', 'Employment', 'RemoteWork',\n",
              "       'CodingActivities', 'EdLevel', 'LearnCode', 'LearnCodeOnline',\n",
              "       'LearnCodeCoursesCert', 'YearsCode', 'YearsCodePro', 'DevType',\n",
              "       'OrgSize', 'PurchaseInfluence', 'BuyNewTool', 'Country', 'Currency',\n",
              "       'CompTotal', 'CompFreq', 'LanguageHaveWorkedWith',\n",
              "       'LanguageWantToWorkWith', 'DatabaseHaveWorkedWith',\n",
              "       'DatabaseWantToWorkWith', 'PlatformHaveWorkedWith',\n",
              "       'PlatformWantToWorkWith', 'WebframeHaveWorkedWith',\n",
              "       'WebframeWantToWorkWith', 'MiscTechHaveWorkedWith',\n",
              "       'MiscTechWantToWorkWith', 'ToolsTechHaveWorkedWith',\n",
              "       'ToolsTechWantToWorkWith', 'NEWCollabToolsHaveWorkedWith',\n",
              "       'NEWCollabToolsWantToWorkWith', 'OpSysProfessional use',\n",
              "       'OpSysPersonal use', 'VersionControlSystem', 'VCInteraction',\n",
              "       'VCHostingPersonal use', 'VCHostingProfessional use',\n",
              "       'OfficeStackAsyncHaveWorkedWith', 'OfficeStackAsyncWantToWorkWith',\n",
              "       'OfficeStackSyncHaveWorkedWith', 'OfficeStackSyncWantToWorkWith',\n",
              "       'Blockchain', 'NEWSOSites', 'SOVisitFreq', 'SOAccount', 'SOPartFreq',\n",
              "       'SOComm', 'Age', 'Gender', 'Trans', 'Sexuality', 'Ethnicity',\n",
              "       'Accessibility', 'MentalHealth', 'TBranch', 'ICorPM', 'WorkExp',\n",
              "       'Knowledge_1', 'Knowledge_2', 'Knowledge_3', 'Knowledge_4',\n",
              "       'Knowledge_5', 'Knowledge_6', 'Knowledge_7', 'Frequency_1',\n",
              "       'Frequency_2', 'Frequency_3', 'TimeSearching', 'TimeAnswering',\n",
              "       'Onboarding', 'ProfessionalTech', 'TrueFalse_1', 'TrueFalse_2',\n",
              "       'TrueFalse_3', 'SurveyLength', 'SurveyEase', 'ConvertedCompYearly'],\n",
              "      dtype='object')"
            ]
          },
          "execution_count": 5,
          "metadata": {},
          "output_type": "execute_result"
        }
      ],
      "source": [
        "df.columns"
      ]
    },
    {
      "cell_type": "code",
      "execution_count": 6,
      "id": "b5823449",
      "metadata": {
        "colab": {
          "base_uri": "https://localhost:8080/",
          "height": 206
        },
        "id": "b5823449",
        "outputId": "6f4c4380-5208-4065-f9ea-b73c11d67b90"
      },
      "outputs": [
        {
          "data": {
            "text/html": [
              "\n",
              "  <div id=\"df-e491164f-697c-4947-aae7-c94f05b6f143\">\n",
              "    <div class=\"colab-df-container\">\n",
              "      <div>\n",
              "<style scoped>\n",
              "    .dataframe tbody tr th:only-of-type {\n",
              "        vertical-align: middle;\n",
              "    }\n",
              "\n",
              "    .dataframe tbody tr th {\n",
              "        vertical-align: top;\n",
              "    }\n",
              "\n",
              "    .dataframe thead th {\n",
              "        text-align: right;\n",
              "    }\n",
              "</style>\n",
              "<table border=\"1\" class=\"dataframe\">\n",
              "  <thead>\n",
              "    <tr style=\"text-align: right;\">\n",
              "      <th></th>\n",
              "      <th>Country</th>\n",
              "      <th>EdLevel</th>\n",
              "      <th>YearsCodePro</th>\n",
              "      <th>Employment</th>\n",
              "      <th>Salary</th>\n",
              "    </tr>\n",
              "  </thead>\n",
              "  <tbody>\n",
              "    <tr>\n",
              "      <th>1</th>\n",
              "      <td>Canada</td>\n",
              "      <td>NaN</td>\n",
              "      <td>NaN</td>\n",
              "      <td>Employed, full-time</td>\n",
              "      <td>NaN</td>\n",
              "    </tr>\n",
              "    <tr>\n",
              "      <th>2</th>\n",
              "      <td>United Kingdom of Great Britain and Northern I...</td>\n",
              "      <td>Master’s degree (M.A., M.S., M.Eng., MBA, etc.)</td>\n",
              "      <td>5</td>\n",
              "      <td>Employed, full-time</td>\n",
              "      <td>40205.0</td>\n",
              "    </tr>\n",
              "    <tr>\n",
              "      <th>3</th>\n",
              "      <td>Israel</td>\n",
              "      <td>Bachelor’s degree (B.A., B.S., B.Eng., etc.)</td>\n",
              "      <td>17</td>\n",
              "      <td>Employed, full-time</td>\n",
              "      <td>215232.0</td>\n",
              "    </tr>\n",
              "    <tr>\n",
              "      <th>4</th>\n",
              "      <td>United States of America</td>\n",
              "      <td>Bachelor’s degree (B.A., B.S., B.Eng., etc.)</td>\n",
              "      <td>3</td>\n",
              "      <td>Employed, full-time</td>\n",
              "      <td>NaN</td>\n",
              "    </tr>\n",
              "    <tr>\n",
              "      <th>5</th>\n",
              "      <td>Germany</td>\n",
              "      <td>Master’s degree (M.A., M.S., M.Eng., MBA, etc.)</td>\n",
              "      <td>NaN</td>\n",
              "      <td>Student, full-time</td>\n",
              "      <td>NaN</td>\n",
              "    </tr>\n",
              "  </tbody>\n",
              "</table>\n",
              "</div>\n",
              "      <button class=\"colab-df-convert\" onclick=\"convertToInteractive('df-e491164f-697c-4947-aae7-c94f05b6f143')\"\n",
              "              title=\"Convert this dataframe to an interactive table.\"\n",
              "              style=\"display:none;\">\n",
              "        \n",
              "  <svg xmlns=\"http://www.w3.org/2000/svg\" height=\"24px\"viewBox=\"0 0 24 24\"\n",
              "       width=\"24px\">\n",
              "    <path d=\"M0 0h24v24H0V0z\" fill=\"none\"/>\n",
              "    <path d=\"M18.56 5.44l.94 2.06.94-2.06 2.06-.94-2.06-.94-.94-2.06-.94 2.06-2.06.94zm-11 1L8.5 8.5l.94-2.06 2.06-.94-2.06-.94L8.5 2.5l-.94 2.06-2.06.94zm10 10l.94 2.06.94-2.06 2.06-.94-2.06-.94-.94-2.06-.94 2.06-2.06.94z\"/><path d=\"M17.41 7.96l-1.37-1.37c-.4-.4-.92-.59-1.43-.59-.52 0-1.04.2-1.43.59L10.3 9.45l-7.72 7.72c-.78.78-.78 2.05 0 2.83L4 21.41c.39.39.9.59 1.41.59.51 0 1.02-.2 1.41-.59l7.78-7.78 2.81-2.81c.8-.78.8-2.07 0-2.86zM5.41 20L4 18.59l7.72-7.72 1.47 1.35L5.41 20z\"/>\n",
              "  </svg>\n",
              "      </button>\n",
              "      \n",
              "  <style>\n",
              "    .colab-df-container {\n",
              "      display:flex;\n",
              "      flex-wrap:wrap;\n",
              "      gap: 12px;\n",
              "    }\n",
              "\n",
              "    .colab-df-convert {\n",
              "      background-color: #E8F0FE;\n",
              "      border: none;\n",
              "      border-radius: 50%;\n",
              "      cursor: pointer;\n",
              "      display: none;\n",
              "      fill: #1967D2;\n",
              "      height: 32px;\n",
              "      padding: 0 0 0 0;\n",
              "      width: 32px;\n",
              "    }\n",
              "\n",
              "    .colab-df-convert:hover {\n",
              "      background-color: #E2EBFA;\n",
              "      box-shadow: 0px 1px 2px rgba(60, 64, 67, 0.3), 0px 1px 3px 1px rgba(60, 64, 67, 0.15);\n",
              "      fill: #174EA6;\n",
              "    }\n",
              "\n",
              "    [theme=dark] .colab-df-convert {\n",
              "      background-color: #3B4455;\n",
              "      fill: #D2E3FC;\n",
              "    }\n",
              "\n",
              "    [theme=dark] .colab-df-convert:hover {\n",
              "      background-color: #434B5C;\n",
              "      box-shadow: 0px 1px 3px 1px rgba(0, 0, 0, 0.15);\n",
              "      filter: drop-shadow(0px 1px 2px rgba(0, 0, 0, 0.3));\n",
              "      fill: #FFFFFF;\n",
              "    }\n",
              "  </style>\n",
              "\n",
              "      <script>\n",
              "        const buttonEl =\n",
              "          document.querySelector('#df-e491164f-697c-4947-aae7-c94f05b6f143 button.colab-df-convert');\n",
              "        buttonEl.style.display =\n",
              "          google.colab.kernel.accessAllowed ? 'block' : 'none';\n",
              "\n",
              "        async function convertToInteractive(key) {\n",
              "          const element = document.querySelector('#df-e491164f-697c-4947-aae7-c94f05b6f143');\n",
              "          const dataTable =\n",
              "            await google.colab.kernel.invokeFunction('convertToInteractive',\n",
              "                                                     [key], {});\n",
              "          if (!dataTable) return;\n",
              "\n",
              "          const docLinkHtml = 'Like what you see? Visit the ' +\n",
              "            '<a target=\"_blank\" href=https://colab.research.google.com/notebooks/data_table.ipynb>data table notebook</a>'\n",
              "            + ' to learn more about interactive tables.';\n",
              "          element.innerHTML = '';\n",
              "          dataTable['output_type'] = 'display_data';\n",
              "          await google.colab.output.renderOutput(dataTable, element);\n",
              "          const docLink = document.createElement('div');\n",
              "          docLink.innerHTML = docLinkHtml;\n",
              "          element.appendChild(docLink);\n",
              "        }\n",
              "      </script>\n",
              "    </div>\n",
              "  </div>\n",
              "  "
            ],
            "text/plain": [
              "                                             Country  \\\n",
              "1                                             Canada   \n",
              "2  United Kingdom of Great Britain and Northern I...   \n",
              "3                                             Israel   \n",
              "4                           United States of America   \n",
              "5                                            Germany   \n",
              "\n",
              "                                           EdLevel YearsCodePro  \\\n",
              "1                                              NaN          NaN   \n",
              "2  Master’s degree (M.A., M.S., M.Eng., MBA, etc.)            5   \n",
              "3     Bachelor’s degree (B.A., B.S., B.Eng., etc.)           17   \n",
              "4     Bachelor’s degree (B.A., B.S., B.Eng., etc.)            3   \n",
              "5  Master’s degree (M.A., M.S., M.Eng., MBA, etc.)          NaN   \n",
              "\n",
              "            Employment    Salary  \n",
              "1  Employed, full-time       NaN  \n",
              "2  Employed, full-time   40205.0  \n",
              "3  Employed, full-time  215232.0  \n",
              "4  Employed, full-time       NaN  \n",
              "5   Student, full-time       NaN  "
            ]
          },
          "execution_count": 6,
          "metadata": {},
          "output_type": "execute_result"
        }
      ],
      "source": [
        "df = df[['Country', 'EdLevel', 'YearsCodePro', 'Employment', 'ConvertedCompYearly']][1:]\n",
        "df = df.rename({'ConvertedCompYearly': 'Salary'}, axis=1)\n",
        "df.head()"
      ]
    },
    {
      "cell_type": "code",
      "execution_count": 7,
      "id": "780fdcc1",
      "metadata": {
        "colab": {
          "base_uri": "https://localhost:8080/",
          "height": 250
        },
        "id": "780fdcc1",
        "outputId": "62035142-9d5a-415e-a4cd-5e78da7db85b"
      },
      "outputs": [
        {
          "data": {
            "text/html": [
              "\n",
              "  <div id=\"df-ac413d75-e8a4-417f-9e54-0ddad99afccf\">\n",
              "    <div class=\"colab-df-container\">\n",
              "      <div>\n",
              "<style scoped>\n",
              "    .dataframe tbody tr th:only-of-type {\n",
              "        vertical-align: middle;\n",
              "    }\n",
              "\n",
              "    .dataframe tbody tr th {\n",
              "        vertical-align: top;\n",
              "    }\n",
              "\n",
              "    .dataframe thead th {\n",
              "        text-align: right;\n",
              "    }\n",
              "</style>\n",
              "<table border=\"1\" class=\"dataframe\">\n",
              "  <thead>\n",
              "    <tr style=\"text-align: right;\">\n",
              "      <th></th>\n",
              "      <th>Country</th>\n",
              "      <th>EdLevel</th>\n",
              "      <th>YearsCodePro</th>\n",
              "      <th>Employment</th>\n",
              "      <th>Salary</th>\n",
              "    </tr>\n",
              "  </thead>\n",
              "  <tbody>\n",
              "    <tr>\n",
              "      <th>2</th>\n",
              "      <td>United Kingdom of Great Britain and Northern I...</td>\n",
              "      <td>Master’s degree (M.A., M.S., M.Eng., MBA, etc.)</td>\n",
              "      <td>5</td>\n",
              "      <td>Employed, full-time</td>\n",
              "      <td>40205.0</td>\n",
              "    </tr>\n",
              "    <tr>\n",
              "      <th>3</th>\n",
              "      <td>Israel</td>\n",
              "      <td>Bachelor’s degree (B.A., B.S., B.Eng., etc.)</td>\n",
              "      <td>17</td>\n",
              "      <td>Employed, full-time</td>\n",
              "      <td>215232.0</td>\n",
              "    </tr>\n",
              "    <tr>\n",
              "      <th>8</th>\n",
              "      <td>Netherlands</td>\n",
              "      <td>Master’s degree (M.A., M.S., M.Eng., MBA, etc.)</td>\n",
              "      <td>6</td>\n",
              "      <td>Employed, full-time</td>\n",
              "      <td>49056.0</td>\n",
              "    </tr>\n",
              "    <tr>\n",
              "      <th>10</th>\n",
              "      <td>United Kingdom of Great Britain and Northern I...</td>\n",
              "      <td>Bachelor’s degree (B.A., B.S., B.Eng., etc.)</td>\n",
              "      <td>2</td>\n",
              "      <td>Employed, full-time</td>\n",
              "      <td>60307.0</td>\n",
              "    </tr>\n",
              "    <tr>\n",
              "      <th>11</th>\n",
              "      <td>United States of America</td>\n",
              "      <td>Bachelor’s degree (B.A., B.S., B.Eng., etc.)</td>\n",
              "      <td>10</td>\n",
              "      <td>Employed, full-time;Independent contractor, fr...</td>\n",
              "      <td>194400.0</td>\n",
              "    </tr>\n",
              "  </tbody>\n",
              "</table>\n",
              "</div>\n",
              "      <button class=\"colab-df-convert\" onclick=\"convertToInteractive('df-ac413d75-e8a4-417f-9e54-0ddad99afccf')\"\n",
              "              title=\"Convert this dataframe to an interactive table.\"\n",
              "              style=\"display:none;\">\n",
              "        \n",
              "  <svg xmlns=\"http://www.w3.org/2000/svg\" height=\"24px\"viewBox=\"0 0 24 24\"\n",
              "       width=\"24px\">\n",
              "    <path d=\"M0 0h24v24H0V0z\" fill=\"none\"/>\n",
              "    <path d=\"M18.56 5.44l.94 2.06.94-2.06 2.06-.94-2.06-.94-.94-2.06-.94 2.06-2.06.94zm-11 1L8.5 8.5l.94-2.06 2.06-.94-2.06-.94L8.5 2.5l-.94 2.06-2.06.94zm10 10l.94 2.06.94-2.06 2.06-.94-2.06-.94-.94-2.06-.94 2.06-2.06.94z\"/><path d=\"M17.41 7.96l-1.37-1.37c-.4-.4-.92-.59-1.43-.59-.52 0-1.04.2-1.43.59L10.3 9.45l-7.72 7.72c-.78.78-.78 2.05 0 2.83L4 21.41c.39.39.9.59 1.41.59.51 0 1.02-.2 1.41-.59l7.78-7.78 2.81-2.81c.8-.78.8-2.07 0-2.86zM5.41 20L4 18.59l7.72-7.72 1.47 1.35L5.41 20z\"/>\n",
              "  </svg>\n",
              "      </button>\n",
              "      \n",
              "  <style>\n",
              "    .colab-df-container {\n",
              "      display:flex;\n",
              "      flex-wrap:wrap;\n",
              "      gap: 12px;\n",
              "    }\n",
              "\n",
              "    .colab-df-convert {\n",
              "      background-color: #E8F0FE;\n",
              "      border: none;\n",
              "      border-radius: 50%;\n",
              "      cursor: pointer;\n",
              "      display: none;\n",
              "      fill: #1967D2;\n",
              "      height: 32px;\n",
              "      padding: 0 0 0 0;\n",
              "      width: 32px;\n",
              "    }\n",
              "\n",
              "    .colab-df-convert:hover {\n",
              "      background-color: #E2EBFA;\n",
              "      box-shadow: 0px 1px 2px rgba(60, 64, 67, 0.3), 0px 1px 3px 1px rgba(60, 64, 67, 0.15);\n",
              "      fill: #174EA6;\n",
              "    }\n",
              "\n",
              "    [theme=dark] .colab-df-convert {\n",
              "      background-color: #3B4455;\n",
              "      fill: #D2E3FC;\n",
              "    }\n",
              "\n",
              "    [theme=dark] .colab-df-convert:hover {\n",
              "      background-color: #434B5C;\n",
              "      box-shadow: 0px 1px 3px 1px rgba(0, 0, 0, 0.15);\n",
              "      filter: drop-shadow(0px 1px 2px rgba(0, 0, 0, 0.3));\n",
              "      fill: #FFFFFF;\n",
              "    }\n",
              "  </style>\n",
              "\n",
              "      <script>\n",
              "        const buttonEl =\n",
              "          document.querySelector('#df-ac413d75-e8a4-417f-9e54-0ddad99afccf button.colab-df-convert');\n",
              "        buttonEl.style.display =\n",
              "          google.colab.kernel.accessAllowed ? 'block' : 'none';\n",
              "\n",
              "        async function convertToInteractive(key) {\n",
              "          const element = document.querySelector('#df-ac413d75-e8a4-417f-9e54-0ddad99afccf');\n",
              "          const dataTable =\n",
              "            await google.colab.kernel.invokeFunction('convertToInteractive',\n",
              "                                                     [key], {});\n",
              "          if (!dataTable) return;\n",
              "\n",
              "          const docLinkHtml = 'Like what you see? Visit the ' +\n",
              "            '<a target=\"_blank\" href=https://colab.research.google.com/notebooks/data_table.ipynb>data table notebook</a>'\n",
              "            + ' to learn more about interactive tables.';\n",
              "          element.innerHTML = '';\n",
              "          dataTable['output_type'] = 'display_data';\n",
              "          await google.colab.output.renderOutput(dataTable, element);\n",
              "          const docLink = document.createElement('div');\n",
              "          docLink.innerHTML = docLinkHtml;\n",
              "          element.appendChild(docLink);\n",
              "        }\n",
              "      </script>\n",
              "    </div>\n",
              "  </div>\n",
              "  "
            ],
            "text/plain": [
              "                                              Country  \\\n",
              "2   United Kingdom of Great Britain and Northern I...   \n",
              "3                                              Israel   \n",
              "8                                         Netherlands   \n",
              "10  United Kingdom of Great Britain and Northern I...   \n",
              "11                           United States of America   \n",
              "\n",
              "                                            EdLevel YearsCodePro  \\\n",
              "2   Master’s degree (M.A., M.S., M.Eng., MBA, etc.)            5   \n",
              "3      Bachelor’s degree (B.A., B.S., B.Eng., etc.)           17   \n",
              "8   Master’s degree (M.A., M.S., M.Eng., MBA, etc.)            6   \n",
              "10     Bachelor’s degree (B.A., B.S., B.Eng., etc.)            2   \n",
              "11     Bachelor’s degree (B.A., B.S., B.Eng., etc.)           10   \n",
              "\n",
              "                                           Employment    Salary  \n",
              "2                                 Employed, full-time   40205.0  \n",
              "3                                 Employed, full-time  215232.0  \n",
              "8                                 Employed, full-time   49056.0  \n",
              "10                                Employed, full-time   60307.0  \n",
              "11  Employed, full-time;Independent contractor, fr...  194400.0  "
            ]
          },
          "execution_count": 7,
          "metadata": {},
          "output_type": "execute_result"
        }
      ],
      "source": [
        "## We only pick columns where the salary data is available\n",
        "\n",
        "df = df[df[\"Salary\"].notnull()]\n",
        "df.head()"
      ]
    },
    {
      "cell_type": "code",
      "execution_count": 8,
      "id": "2b57bb79",
      "metadata": {
        "colab": {
          "base_uri": "https://localhost:8080/"
        },
        "id": "2b57bb79",
        "outputId": "6ece930b-08b1-4ca7-e589-895a6eeaa9be"
      },
      "outputs": [
        {
          "name": "stdout",
          "output_type": "stream",
          "text": [
            "<class 'pandas.core.frame.DataFrame'>\n",
            "Int64Index: 38071 entries, 2 to 73121\n",
            "Data columns (total 5 columns):\n",
            " #   Column        Non-Null Count  Dtype  \n",
            "---  ------        --------------  -----  \n",
            " 0   Country       38071 non-null  object \n",
            " 1   EdLevel       38054 non-null  object \n",
            " 2   YearsCodePro  37935 non-null  object \n",
            " 3   Employment    38067 non-null  object \n",
            " 4   Salary        38071 non-null  float64\n",
            "dtypes: float64(1), object(4)\n",
            "memory usage: 1.7+ MB\n"
          ]
        }
      ],
      "source": [
        "df.info()"
      ]
    },
    {
      "cell_type": "markdown",
      "id": "3c887638",
      "metadata": {
        "id": "3c887638"
      },
      "source": [
        "#### We see that we have 38071 entries with salary information"
      ]
    },
    {
      "cell_type": "code",
      "execution_count": 9,
      "id": "d3250db3",
      "metadata": {
        "colab": {
          "base_uri": "https://localhost:8080/"
        },
        "id": "d3250db3",
        "outputId": "117498e8-2e0d-4589-e068-086bd9b1c636"
      },
      "outputs": [
        {
          "data": {
            "text/plain": [
              "Country         0\n",
              "EdLevel         0\n",
              "YearsCodePro    0\n",
              "Employment      0\n",
              "Salary          0\n",
              "dtype: int64"
            ]
          },
          "execution_count": 9,
          "metadata": {},
          "output_type": "execute_result"
        }
      ],
      "source": [
        "## We can use different approach to clean data but to keep it very simple, we have decided to drop this\n",
        "\n",
        "df = df.dropna()\n",
        "df.isnull().sum()"
      ]
    },
    {
      "cell_type": "code",
      "execution_count": 10,
      "id": "10c7911d",
      "metadata": {
        "colab": {
          "base_uri": "https://localhost:8080/"
        },
        "id": "10c7911d",
        "outputId": "b8212f4f-5c12-484d-87c4-4cccb2b5598a"
      },
      "outputs": [
        {
          "name": "stdout",
          "output_type": "stream",
          "text": [
            "<class 'pandas.core.frame.DataFrame'>\n",
            "Int64Index: 31382 entries, 2 to 73121\n",
            "Data columns (total 4 columns):\n",
            " #   Column        Non-Null Count  Dtype  \n",
            "---  ------        --------------  -----  \n",
            " 0   Country       31382 non-null  object \n",
            " 1   EdLevel       31382 non-null  object \n",
            " 2   YearsCodePro  31382 non-null  object \n",
            " 3   Salary        31382 non-null  float64\n",
            "dtypes: float64(1), object(3)\n",
            "memory usage: 1.2+ MB\n"
          ]
        }
      ],
      "source": [
        "## We only want to keep the rows where the developer was employed full time \n",
        "## We don't need the column for prediction as well\n",
        "\n",
        "df = df[df['Employment'] == \"Employed, full-time\"]\n",
        "df = df.drop(\"Employment\", axis=1)\n",
        "df.info()"
      ]
    },
    {
      "cell_type": "code",
      "execution_count": 11,
      "id": "f3c1e398",
      "metadata": {
        "colab": {
          "base_uri": "https://localhost:8080/"
        },
        "id": "f3c1e398",
        "outputId": "44715c5f-405e-4e30-f2a0-ccbdf29e75cc"
      },
      "outputs": [
        {
          "data": {
            "text/plain": [
              "United States of America                                7858\n",
              "Germany                                                 2382\n",
              "United Kingdom of Great Britain and Northern Ireland    2341\n",
              "India                                                   1869\n",
              "Canada                                                  1249\n",
              "                                                        ... \n",
              "Haiti                                                      1\n",
              "Zambia                                                     1\n",
              "Suriname                                                   1\n",
              "Somalia                                                    1\n",
              "Seychelles                                                 1\n",
              "Name: Country, Length: 155, dtype: int64"
            ]
          },
          "execution_count": 11,
          "metadata": {},
          "output_type": "execute_result"
        }
      ],
      "source": [
        "## We need to get rid the countries with few values \n",
        "## The small datapoints can confuse the model\n",
        "\n",
        "df['Country'].value_counts()"
      ]
    },
    {
      "cell_type": "code",
      "execution_count": 12,
      "id": "74f79b1f",
      "metadata": {
        "id": "74f79b1f"
      },
      "outputs": [],
      "source": [
        "def shorten_categories(categories, cutoff):\n",
        "    categorical_map = {}\n",
        "    print(type(categories))\n",
        "    for i in range(len(categories)):\n",
        "        if categories.values[i] >= cutoff:\n",
        "            print(categories.values[i])\n",
        "            categorical_map[categories.index[i]] = categories.index[i]\n",
        "        else:\n",
        "            categorical_map[categories.index[i]] = 'Other'\n",
        "            \n",
        "    return categorical_map"
      ]
    },
    {
      "cell_type": "code",
      "execution_count": 13,
      "id": "f13b2706",
      "metadata": {
        "colab": {
          "base_uri": "https://localhost:8080/"
        },
        "id": "f13b2706",
        "outputId": "3398d138-bfd6-4f9d-a8b0-33708eedac96"
      },
      "outputs": [
        {
          "name": "stdout",
          "output_type": "stream",
          "text": [
            "<class 'pandas.core.series.Series'>\n",
            "7858\n",
            "2382\n",
            "2341\n",
            "1869\n",
            "1249\n",
            "1126\n",
            "1014\n",
            "858\n",
            "701\n",
            "700\n",
            "667\n",
            "572\n",
            "561\n",
            "425\n",
            "416\n"
          ]
        },
        {
          "data": {
            "text/plain": [
              "Other                                                   8643\n",
              "United States of America                                7858\n",
              "Germany                                                 2382\n",
              "United Kingdom of Great Britain and Northern Ireland    2341\n",
              "India                                                   1869\n",
              "Canada                                                  1249\n",
              "France                                                  1126\n",
              "Brazil                                                  1014\n",
              "Spain                                                    858\n",
              "Netherlands                                              701\n",
              "Australia                                                700\n",
              "Italy                                                    667\n",
              "Poland                                                   572\n",
              "Sweden                                                   561\n",
              "Russian Federation                                       425\n",
              "Switzerland                                              416\n",
              "Name: Country, dtype: int64"
            ]
          },
          "execution_count": 13,
          "metadata": {},
          "output_type": "execute_result"
        }
      ],
      "source": [
        "country_map = shorten_categories(df.Country.value_counts(), 400)\n",
        "df['Country'] = df['Country'].map(country_map)\n",
        "df.Country.value_counts()"
      ]
    },
    {
      "cell_type": "code",
      "execution_count": 14,
      "id": "bc1490e8",
      "metadata": {
        "colab": {
          "base_uri": "https://localhost:8080/",
          "height": 794
        },
        "id": "bc1490e8",
        "outputId": "89824675-a188-42de-9619-65115fcb2c36"
      },
      "outputs": [
        {
          "name": "stderr",
          "output_type": "stream",
          "text": [
            "/usr/local/lib/python3.7/dist-packages/matplotlib/cbook/__init__.py:1376: VisibleDeprecationWarning: Creating an ndarray from ragged nested sequences (which is a list-or-tuple of lists-or-tuples-or ndarrays with different lengths or shapes) is deprecated. If you meant to do this, you must specify 'dtype=object' when creating the ndarray.\n",
            "  X = np.atleast_1d(X.T if isinstance(X, np.ndarray) else np.asarray(X))\n"
          ]
        },
        {
          "data": {
            "image/png": "[encoded data removed]",
            "text/plain": [
              "<Figure size 864x504 with 1 Axes>"
            ]
          },
          "metadata": {
            "needs_background": "light"
          },
          "output_type": "display_data"
        }
      ],
      "source": [
        "fig, ax = plt.subplots(1, 1, figsize=(12, 7))\n",
        "df.boxplot('Salary', 'Country', ax=ax)\n",
        "plt.suptitle('Salary (US$) v Country')\n",
        "plt.title('')\n",
        "plt.ylabel('Salary')\n",
        "plt.xticks(rotation=90)\n",
        "plt.show()"
      ]
    },
    {
      "cell_type": "code",
      "execution_count": 15,
      "id": "8d5646bc",
      "metadata": {
        "id": "8d5646bc"
      },
      "outputs": [],
      "source": [
        "df = df[df['Salary'] <= 250000]\n",
        "df = df[df['Salary'] >= 10000]\n",
        "df = df[df['Country'] != 'Other']\n"
      ]
    },
    {
      "cell_type": "code",
      "execution_count": 16,
      "id": "67bcd957",
      "metadata": {
        "colab": {
          "base_uri": "https://localhost:8080/",
          "height": 554
        },
        "id": "67bcd957",
        "outputId": "f16e1988-4aec-452f-eeb6-2f7d914def3a"
      },
      "outputs": [
        {
          "name": "stderr",
          "output_type": "stream",
          "text": [
            "/usr/local/lib/python3.7/dist-packages/matplotlib/cbook/__init__.py:1376: VisibleDeprecationWarning: Creating an ndarray from ragged nested sequences (which is a list-or-tuple of lists-or-tuples-or ndarrays with different lengths or shapes) is deprecated. If you meant to do this, you must specify 'dtype=object' when creating the ndarray.\n",
            "  X = np.atleast_1d(X.T if isinstance(X, np.ndarray) else np.asarray(X))\n"
          ]
        },
        {
          "data": {
            "text/plain": [
              "Text(0.5, 1.0, '')"
            ]
          },
          "execution_count": 16,
          "metadata": {},
          "output_type": "execute_result"
        },
        {
          "data": {
            "image/png": "[encoded data removed]",
            "text/plain": [
              "<Figure size 864x504 with 1 Axes>"
            ]
          },
          "metadata": {
            "needs_background": "light"
          },
          "output_type": "display_data"
        }
      ],
      "source": [
        "fig, ax = plt.subplots(1, 1, figsize=(12, 7))\n",
        "df.boxplot('Salary', 'Country', ax=ax)\n",
        "plt.suptitle('Salary (US$) v Country')\n",
        "plt.title('')"
      ]
    },
    {
      "cell_type": "code",
      "execution_count": 17,
      "id": "6822fda4",
      "metadata": {
        "colab": {
          "base_uri": "https://localhost:8080/"
        },
        "id": "6822fda4",
        "outputId": "c6d59648-a126-4113-ae5a-fbc3e51c59cc"
      },
      "outputs": [
        {
          "data": {
            "text/plain": [
              "array(['5', '6', '2', '4', '20', '9', '14', '21', '15', '25', '3', '10',\n",
              "       '8', '12', '7', '19', '17', '24', '1', '11', '23',\n",
              "       'Less than 1 year', '18', '37', '46', '22', '32', '13', '27', '28',\n",
              "       '16', '31', '34', '35', '26', '42', '38', '30', '36', '40', '41',\n",
              "       '29', '33', '39', '48', '45', '44', '43', 'More than 50 years',\n",
              "       '47', '49', '50'], dtype=object)"
            ]
          },
          "execution_count": 17,
          "metadata": {},
          "output_type": "execute_result"
        }
      ],
      "source": [
        "df[\"YearsCodePro\"].unique()"
      ]
    },
    {
      "cell_type": "code",
      "execution_count": 18,
      "id": "67abf8c6",
      "metadata": {
        "id": "67abf8c6"
      },
      "outputs": [],
      "source": [
        "def clean_experience(x):\n",
        "    if x == 'More than 50 years':\n",
        "        return 50\n",
        "    if x == 'Less than 1 year':\n",
        "        return 0.5\n",
        "    return float(x)\n",
        "\n",
        "df['YearsCodePro'] = df['YearsCodePro'].apply(clean_experience)"
      ]
    },
    {
      "cell_type": "code",
      "execution_count": 19,
      "id": "aafe5592",
      "metadata": {
        "colab": {
          "base_uri": "https://localhost:8080/"
        },
        "id": "aafe5592",
        "outputId": "dd933c92-e65f-4acf-a4d5-f9f09bce7379"
      },
      "outputs": [
        {
          "data": {
            "text/plain": [
              "array(['Master’s degree (M.A., M.S., M.Eng., MBA, etc.)',\n",
              "       'Bachelor’s degree (B.A., B.S., B.Eng., etc.)', 'Something else',\n",
              "       'Associate degree (A.A., A.S., etc.)',\n",
              "       'Some college/university study without earning a degree',\n",
              "       'Secondary school (e.g. American high school, German Realschule or Gymnasium, etc.)',\n",
              "       'Professional degree (JD, MD, etc.)',\n",
              "       'Other doctoral degree (Ph.D., Ed.D., etc.)',\n",
              "       'Primary/elementary school'], dtype=object)"
            ]
          },
          "execution_count": 19,
          "metadata": {},
          "output_type": "execute_result"
        }
      ],
      "source": [
        "df['EdLevel'].unique()"
      ]
    },
    {
      "cell_type": "code",
      "execution_count": 20,
      "id": "63b749d0",
      "metadata": {
        "id": "63b749d0"
      },
      "outputs": [],
      "source": [
        "def clean_education(x):\n",
        "    if 'Bachelor’s degree' in x:\n",
        "        return \"Bachelor's degree\"\n",
        "    if 'Master’s degree' in x:\n",
        "        return \"Master's degree\"\n",
        "    if 'Professional degree' in x or 'Other doctoral' in x:\n",
        "        return 'Post grad'\n",
        "    return 'Less than a Bachelors'\n",
        "\n",
        "df['EdLevel'] = df['EdLevel'].apply(clean_education)"
      ]
    },
    {
      "cell_type": "code",
      "execution_count": 21,
      "id": "eb30b113",
      "metadata": {
        "colab": {
          "base_uri": "https://localhost:8080/"
        },
        "id": "eb30b113",
        "outputId": "eb775770-fa0e-4411-e9de-36ff3aef08d5"
      },
      "outputs": [
        {
          "data": {
            "text/plain": [
              "array([\"Master's degree\", \"Bachelor's degree\", 'Less than a Bachelors',\n",
              "       'Post grad'], dtype=object)"
            ]
          },
          "execution_count": 21,
          "metadata": {},
          "output_type": "execute_result"
        }
      ],
      "source": [
        "df['EdLevel'].unique()"
      ]
    },
    {
      "cell_type": "markdown",
      "id": "f75952ec",
      "metadata": {
        "id": "f75952ec"
      },
      "source": [
        "#### Encoding"
      ]
    },
    {
      "cell_type": "code",
      "execution_count": 22,
      "id": "0faa6314",
      "metadata": {
        "id": "0faa6314"
      },
      "outputs": [],
      "source": [
        "from sklearn.preprocessing import LabelEncoder"
      ]
    },
    {
      "cell_type": "code",
      "execution_count": 23,
      "id": "7af17e65",
      "metadata": {
        "colab": {
          "base_uri": "https://localhost:8080/"
        },
        "id": "7af17e65",
        "outputId": "4f04d965-533d-4a86-ac51-97f6f044ab0f"
      },
      "outputs": [
        {
          "data": {
            "text/plain": [
              "array([2, 0, 1, 3])"
            ]
          },
          "execution_count": 23,
          "metadata": {},
          "output_type": "execute_result"
        }
      ],
      "source": [
        "\n",
        "le_education = LabelEncoder()\n",
        "df['EdLevel'] = le_education.fit_transform(df['EdLevel'])\n",
        "df['EdLevel'].unique()"
      ]
    },
    {
      "cell_type": "code",
      "execution_count": 24,
      "id": "e6379c06",
      "metadata": {
        "colab": {
          "base_uri": "https://localhost:8080/"
        },
        "id": "e6379c06",
        "outputId": "f6545b0a-d798-4660-8c91-2db511251270"
      },
      "outputs": [
        {
          "data": {
            "text/plain": [
              "array([13,  7, 14,  6,  2,  4,  8,  3,  1, 11, 10,  5, 12,  0,  9])"
            ]
          },
          "execution_count": 24,
          "metadata": {},
          "output_type": "execute_result"
        }
      ],
      "source": [
        "\n",
        "le_country = LabelEncoder()\n",
        "df['Country'] = le_country.fit_transform(df['Country'])\n",
        "df['Country'].unique()"
      ]
    },
    {
      "cell_type": "code",
      "execution_count": 24,
      "id": "42f4c493",
      "metadata": {
        "id": "42f4c493"
      },
      "outputs": [],
      "source": []
    },
    {
      "cell_type": "code",
      "execution_count": 25,
      "id": "96f5dfe6",
      "metadata": {
        "id": "96f5dfe6"
      },
      "outputs": [],
      "source": [
        "X = df.drop(\"Salary\", axis = 1)\n",
        "y = df['Salary']"
      ]
    },
    {
      "cell_type": "code",
      "execution_count": 25,
      "id": "6ad30b76",
      "metadata": {
        "id": "6ad30b76"
      },
      "outputs": [],
      "source": []
    },
    {
      "cell_type": "code",
      "execution_count": 26,
      "id": "5bad4141",
      "metadata": {
        "id": "5bad4141"
      },
      "outputs": [],
      "source": [
        "# # Splitting the dataset into the Training set and Test set\n",
        "# # we shall define the size of the test data as 20% of entire dataset\n",
        "\n",
        "# from sklearn.model_selection import train_test_split\n",
        "\n",
        "# X_train, X_test, y_train, y_test = train_test_split(X, y, test_size=0.2, random_state=42)\n"
      ]
    },
    {
      "cell_type": "code",
      "execution_count": 27,
      "id": "74a9e62d",
      "metadata": {
        "id": "74a9e62d"
      },
      "outputs": [],
      "source": [
        "# # Using the StandardScaler normalization to normalize our feature set\n",
        "\n",
        "# from sklearn.preprocessing import StandardScaler\n",
        "\n",
        "# sc = StandardScaler()\n",
        "# X_train = sc.fit_transform(X_train)\n",
        "# X_test = sc.transform(X_test)\n"
      ]
    },
    {
      "cell_type": "code",
      "execution_count": 28,
      "id": "87795bcc",
      "metadata": {
        "id": "87795bcc"
      },
      "outputs": [],
      "source": [
        "# X_train"
      ]
    },
    {
      "cell_type": "code",
      "execution_count": 29,
      "id": "625cb015",
      "metadata": {
        "colab": {
          "base_uri": "https://localhost:8080/"
        },
        "id": "625cb015",
        "outputId": "5b3883c8-4186-4ac0-bba7-47ade3bd3f71"
      },
      "outputs": [
        {
          "data": {
            "text/plain": [
              "LinearRegression()"
            ]
          },
          "execution_count": 29,
          "metadata": {},
          "output_type": "execute_result"
        }
      ],
      "source": [
        "from sklearn.linear_model import LinearRegression\n",
        "linear_reg = LinearRegression()\n",
        "linear_reg.fit(X, y.values)"
      ]
    },
    {
      "cell_type": "code",
      "execution_count": 30,
      "id": "f39ebe3a",
      "metadata": {
        "id": "f39ebe3a"
      },
      "outputs": [],
      "source": [
        "y_pred = linear_reg.predict(X)"
      ]
    },
    {
      "cell_type": "code",
      "execution_count": 31,
      "id": "fac01931",
      "metadata": {
        "id": "fac01931"
      },
      "outputs": [],
      "source": [
        "from sklearn.metrics import mean_squared_error, mean_absolute_error\n",
        "import numpy as np\n",
        "\n",
        "error = np.sqrt(mean_squared_error(y, y_pred))"
      ]
    },
    {
      "cell_type": "code",
      "execution_count": 32,
      "id": "63bfcef4",
      "metadata": {
        "colab": {
          "base_uri": "https://localhost:8080/"
        },
        "id": "63bfcef4",
        "outputId": "a5600ff5-a82c-47af-9d9e-ed4de720f6cf"
      },
      "outputs": [
        {
          "data": {
            "text/plain": [
              "44689.67485721425"
            ]
          },
          "execution_count": 32,
          "metadata": {},
          "output_type": "execute_result"
        }
      ],
      "source": [
        "error"
      ]
    },
    {
      "cell_type": "code",
      "execution_count": 32,
      "id": "a68c501d",
      "metadata": {
        "id": "a68c501d"
      },
      "outputs": [],
      "source": []
    },
    {
      "cell_type": "code",
      "execution_count": 33,
      "id": "22633e31",
      "metadata": {
        "colab": {
          "base_uri": "https://localhost:8080/"
        },
        "id": "22633e31",
        "outputId": "30664857-1851-4ee9-af65-55744bdd9c9e"
      },
      "outputs": [
        {
          "data": {
            "text/plain": [
              "DecisionTreeRegressor(random_state=0)"
            ]
          },
          "execution_count": 33,
          "metadata": {},
          "output_type": "execute_result"
        }
      ],
      "source": [
        "from sklearn.tree import DecisionTreeRegressor\n",
        "dec_tree_reg = DecisionTreeRegressor(random_state=0)\n",
        "dec_tree_reg.fit(X, y.values)"
      ]
    },
    {
      "cell_type": "code",
      "execution_count": 34,
      "id": "ae7bb418",
      "metadata": {
        "id": "ae7bb418"
      },
      "outputs": [],
      "source": [
        "y_pred = dec_tree_reg.predict(X)"
      ]
    },
    {
      "cell_type": "code",
      "execution_count": 35,
      "id": "57f28839",
      "metadata": {
        "colab": {
          "base_uri": "https://localhost:8080/"
        },
        "id": "57f28839",
        "outputId": "ed4c2eaf-af67-4649-9df8-ab82f5eede25"
      },
      "outputs": [
        {
          "name": "stdout",
          "output_type": "stream",
          "text": [
            "$33,529.80\n"
          ]
        }
      ],
      "source": [
        "error = np.sqrt(mean_squared_error(y, y_pred))\n",
        "print(\"${:,.02f}\".format(error))"
      ]
    },
    {
      "cell_type": "code",
      "execution_count": 36,
      "id": "6c1eb833",
      "metadata": {
        "colab": {
          "base_uri": "https://localhost:8080/"
        },
        "id": "6c1eb833",
        "outputId": "373e02f8-2457-4e8a-87db-0d781dd4098f"
      },
      "outputs": [
        {
          "data": {
            "text/plain": [
              "RandomForestRegressor(random_state=0)"
            ]
          },
          "execution_count": 36,
          "metadata": {},
          "output_type": "execute_result"
        }
      ],
      "source": [
        "from sklearn.ensemble import RandomForestRegressor\n",
        "random_forest_reg = RandomForestRegressor(random_state=0)\n",
        "random_forest_reg.fit(X, y.values)"
      ]
    },
    {
      "cell_type": "code",
      "execution_count": 37,
      "id": "9f8a6d48",
      "metadata": {
        "id": "9f8a6d48"
      },
      "outputs": [],
      "source": [
        "y_pred = random_forest_reg.predict(X)"
      ]
    },
    {
      "cell_type": "code",
      "execution_count": 38,
      "id": "b20949fc",
      "metadata": {
        "colab": {
          "base_uri": "https://localhost:8080/"
        },
        "id": "b20949fc",
        "outputId": "a121fa04-faec-4293-d335-04018d349cb2"
      },
      "outputs": [
        {
          "name": "stdout",
          "output_type": "stream",
          "text": [
            "$33,611.93\n"
          ]
        }
      ],
      "source": [
        "error = np.sqrt(mean_squared_error(y, y_pred))\n",
        "print(\"${:,.02f}\".format(error))"
      ]
    },
    {
      "cell_type": "code",
      "execution_count": 38,
      "id": "af7393a0",
      "metadata": {
        "id": "af7393a0"
      },
      "outputs": [],
      "source": []
    },
    {
      "cell_type": "code",
      "execution_count": 39,
      "id": "b8469a93",
      "metadata": {
        "colab": {
          "base_uri": "https://localhost:8080/"
        },
        "id": "b8469a93",
        "outputId": "d784f326-3dba-449b-e69e-0f090df6a655"
      },
      "outputs": [
        {
          "data": {
            "text/plain": [
              "GridSearchCV(estimator=DecisionTreeRegressor(random_state=0),\n",
              "             param_grid={'max_depth': [None, 2, 4, 6, 8, 10, 12]},\n",
              "             scoring='neg_mean_squared_error')"
            ]
          },
          "execution_count": 39,
          "metadata": {},
          "output_type": "execute_result"
        }
      ],
      "source": [
        "from sklearn.model_selection import GridSearchCV\n",
        "\n",
        "max_depth = [None, 2, 4, 6, 8, 10, 12]\n",
        "parameters = {\"max_depth\": max_depth}\n",
        "\n",
        "regressor = DecisionTreeRegressor(random_state=0)\n",
        "gs = GridSearchCV(regressor, parameters, scoring='neg_mean_squared_error')\n",
        "gs.fit(X, y.values)"
      ]
    },
    {
      "cell_type": "code",
      "execution_count": 40,
      "id": "c9974dcb",
      "metadata": {
        "colab": {
          "base_uri": "https://localhost:8080/"
        },
        "id": "c9974dcb",
        "outputId": "6c71be72-deeb-4a67-f860-0e571f0511f1"
      },
      "outputs": [
        {
          "name": "stdout",
          "output_type": "stream",
          "text": [
            "$34,864.27\n"
          ]
        }
      ],
      "source": [
        "regressor = gs.best_estimator_\n",
        "\n",
        "regressor.fit(X, y.values)\n",
        "y_pred = regressor.predict(X)\n",
        "error = np.sqrt(mean_squared_error(y, y_pred))\n",
        "print(\"${:,.02f}\".format(error))"
      ]
    },
    {
      "cell_type": "code",
      "execution_count": 41,
      "id": "7d11787c",
      "metadata": {
        "colab": {
          "base_uri": "https://localhost:8080/",
          "height": 424
        },
        "id": "7d11787c",
        "outputId": "a4deeed1-49f8-437c-8513-e7fa6f71709d"
      },
      "outputs": [
        {
          "data": {
            "text/html": [
              "\n",
              "  <div id=\"df-064f2653-fdca-4c7d-8780-d08fa14f18ae\">\n",
              "    <div class=\"colab-df-container\">\n",
              "      <div>\n",
              "<style scoped>\n",
              "    .dataframe tbody tr th:only-of-type {\n",
              "        vertical-align: middle;\n",
              "    }\n",
              "\n",
              "    .dataframe tbody tr th {\n",
              "        vertical-align: top;\n",
              "    }\n",
              "\n",
              "    .dataframe thead th {\n",
              "        text-align: right;\n",
              "    }\n",
              "</style>\n",
              "<table border=\"1\" class=\"dataframe\">\n",
              "  <thead>\n",
              "    <tr style=\"text-align: right;\">\n",
              "      <th></th>\n",
              "      <th>Country</th>\n",
              "      <th>EdLevel</th>\n",
              "      <th>YearsCodePro</th>\n",
              "    </tr>\n",
              "  </thead>\n",
              "  <tbody>\n",
              "    <tr>\n",
              "      <th>2</th>\n",
              "      <td>13</td>\n",
              "      <td>2</td>\n",
              "      <td>5.0</td>\n",
              "    </tr>\n",
              "    <tr>\n",
              "      <th>8</th>\n",
              "      <td>7</td>\n",
              "      <td>2</td>\n",
              "      <td>6.0</td>\n",
              "    </tr>\n",
              "    <tr>\n",
              "      <th>10</th>\n",
              "      <td>13</td>\n",
              "      <td>0</td>\n",
              "      <td>2.0</td>\n",
              "    </tr>\n",
              "    <tr>\n",
              "      <th>12</th>\n",
              "      <td>14</td>\n",
              "      <td>0</td>\n",
              "      <td>5.0</td>\n",
              "    </tr>\n",
              "    <tr>\n",
              "      <th>21</th>\n",
              "      <td>6</td>\n",
              "      <td>2</td>\n",
              "      <td>4.0</td>\n",
              "    </tr>\n",
              "    <tr>\n",
              "      <th>...</th>\n",
              "      <td>...</td>\n",
              "      <td>...</td>\n",
              "      <td>...</td>\n",
              "    </tr>\n",
              "    <tr>\n",
              "      <th>73113</th>\n",
              "      <td>14</td>\n",
              "      <td>2</td>\n",
              "      <td>5.0</td>\n",
              "    </tr>\n",
              "    <tr>\n",
              "      <th>73116</th>\n",
              "      <td>14</td>\n",
              "      <td>0</td>\n",
              "      <td>16.0</td>\n",
              "    </tr>\n",
              "    <tr>\n",
              "      <th>73119</th>\n",
              "      <td>14</td>\n",
              "      <td>0</td>\n",
              "      <td>1.0</td>\n",
              "    </tr>\n",
              "    <tr>\n",
              "      <th>73120</th>\n",
              "      <td>10</td>\n",
              "      <td>0</td>\n",
              "      <td>2.0</td>\n",
              "    </tr>\n",
              "    <tr>\n",
              "      <th>73121</th>\n",
              "      <td>13</td>\n",
              "      <td>2</td>\n",
              "      <td>3.0</td>\n",
              "    </tr>\n",
              "  </tbody>\n",
              "</table>\n",
              "<p>19884 rows × 3 columns</p>\n",
              "</div>\n",
              "      <button class=\"colab-df-convert\" onclick=\"convertToInteractive('df-064f2653-fdca-4c7d-8780-d08fa14f18ae')\"\n",
              "              title=\"Convert this dataframe to an interactive table.\"\n",
              "              style=\"display:none;\">\n",
              "        \n",
              "  <svg xmlns=\"http://www.w3.org/2000/svg\" height=\"24px\"viewBox=\"0 0 24 24\"\n",
              "       width=\"24px\">\n",
              "    <path d=\"M0 0h24v24H0V0z\" fill=\"none\"/>\n",
              "    <path d=\"M18.56 5.44l.94 2.06.94-2.06 2.06-.94-2.06-.94-.94-2.06-.94 2.06-2.06.94zm-11 1L8.5 8.5l.94-2.06 2.06-.94-2.06-.94L8.5 2.5l-.94 2.06-2.06.94zm10 10l.94 2.06.94-2.06 2.06-.94-2.06-.94-.94-2.06-.94 2.06-2.06.94z\"/><path d=\"M17.41 7.96l-1.37-1.37c-.4-.4-.92-.59-1.43-.59-.52 0-1.04.2-1.43.59L10.3 9.45l-7.72 7.72c-.78.78-.78 2.05 0 2.83L4 21.41c.39.39.9.59 1.41.59.51 0 1.02-.2 1.41-.59l7.78-7.78 2.81-2.81c.8-.78.8-2.07 0-2.86zM5.41 20L4 18.59l7.72-7.72 1.47 1.35L5.41 20z\"/>\n",
              "  </svg>\n",
              "      </button>\n",
              "      \n",
              "  <style>\n",
              "    .colab-df-container {\n",
              "      display:flex;\n",
              "      flex-wrap:wrap;\n",
              "      gap: 12px;\n",
              "    }\n",
              "\n",
              "    .colab-df-convert {\n",
              "      background-color: #E8F0FE;\n",
              "      border: none;\n",
              "      border-radius: 50%;\n",
              "      cursor: pointer;\n",
              "      display: none;\n",
              "      fill: #1967D2;\n",
              "      height: 32px;\n",
              "      padding: 0 0 0 0;\n",
              "      width: 32px;\n",
              "    }\n",
              "\n",
              "    .colab-df-convert:hover {\n",
              "      background-color: #E2EBFA;\n",
              "      box-shadow: 0px 1px 2px rgba(60, 64, 67, 0.3), 0px 1px 3px 1px rgba(60, 64, 67, 0.15);\n",
              "      fill: #174EA6;\n",
              "    }\n",
              "\n",
              "    [theme=dark] .colab-df-convert {\n",
              "      background-color: #3B4455;\n",
              "      fill: #D2E3FC;\n",
              "    }\n",
              "\n",
              "    [theme=dark] .colab-df-convert:hover {\n",
              "      background-color: #434B5C;\n",
              "      box-shadow: 0px 1px 3px 1px rgba(0, 0, 0, 0.15);\n",
              "      filter: drop-shadow(0px 1px 2px rgba(0, 0, 0, 0.3));\n",
              "      fill: #FFFFFF;\n",
              "    }\n",
              "  </style>\n",
              "\n",
              "      <script>\n",
              "        const buttonEl =\n",
              "          document.querySelector('#df-064f2653-fdca-4c7d-8780-d08fa14f18ae button.colab-df-convert');\n",
              "        buttonEl.style.display =\n",
              "          google.colab.kernel.accessAllowed ? 'block' : 'none';\n",
              "\n",
              "        async function convertToInteractive(key) {\n",
              "          const element = document.querySelector('#df-064f2653-fdca-4c7d-8780-d08fa14f18ae');\n",
              "          const dataTable =\n",
              "            await google.colab.kernel.invokeFunction('convertToInteractive',\n",
              "                                                     [key], {});\n",
              "          if (!dataTable) return;\n",
              "\n",
              "          const docLinkHtml = 'Like what you see? Visit the ' +\n",
              "            '<a target=\"_blank\" href=https://colab.research.google.com/notebooks/data_table.ipynb>data table notebook</a>'\n",
              "            + ' to learn more about interactive tables.';\n",
              "          element.innerHTML = '';\n",
              "          dataTable['output_type'] = 'display_data';\n",
              "          await google.colab.output.renderOutput(dataTable, element);\n",
              "          const docLink = document.createElement('div');\n",
              "          docLink.innerHTML = docLinkHtml;\n",
              "          element.appendChild(docLink);\n",
              "        }\n",
              "      </script>\n",
              "    </div>\n",
              "  </div>\n",
              "  "
            ],
            "text/plain": [
              "       Country  EdLevel  YearsCodePro\n",
              "2           13        2           5.0\n",
              "8            7        2           6.0\n",
              "10          13        0           2.0\n",
              "12          14        0           5.0\n",
              "21           6        2           4.0\n",
              "...        ...      ...           ...\n",
              "73113       14        2           5.0\n",
              "73116       14        0          16.0\n",
              "73119       14        0           1.0\n",
              "73120       10        0           2.0\n",
              "73121       13        2           3.0\n",
              "\n",
              "[19884 rows x 3 columns]"
            ]
          },
          "execution_count": 41,
          "metadata": {},
          "output_type": "execute_result"
        }
      ],
      "source": [
        "X"
      ]
    },
    {
      "cell_type": "code",
      "execution_count": 42,
      "id": "08151684",
      "metadata": {
        "colab": {
          "base_uri": "https://localhost:8080/"
        },
        "id": "08151684",
        "outputId": "720262a8-dbe3-4a9e-c0b8-079bcac06b1b"
      },
      "outputs": [
        {
          "data": {
            "text/plain": [
              "array([['United States of America', \"Master's degree\", '15']],\n",
              "      dtype='<U24')"
            ]
          },
          "execution_count": 42,
          "metadata": {},
          "output_type": "execute_result"
        }
      ],
      "source": [
        "## country, edlevel, yearscode\n",
        "\n",
        "X = np.array([[\"United States of America\", \"Master's degree\", 15]])\n",
        "X"
      ]
    },
    {
      "cell_type": "code",
      "execution_count": 43,
      "id": "580cf320",
      "metadata": {
        "colab": {
          "base_uri": "https://localhost:8080/"
        },
        "id": "580cf320",
        "outputId": "c3af3306-5714-46b0-d06c-88ce09d0b72a"
      },
      "outputs": [
        {
          "data": {
            "text/plain": [
              "array([[14.,  2., 15.]])"
            ]
          },
          "execution_count": 43,
          "metadata": {},
          "output_type": "execute_result"
        }
      ],
      "source": [
        "X[:, 0] = le_country.transform(X[:,0])\n",
        "X[:, 1] = le_education.transform(X[:,1])\n",
        "X = X.astype(float)\n",
        "X"
      ]
    },
    {
      "cell_type": "code",
      "execution_count": 44,
      "id": "3eaa4c07",
      "metadata": {
        "colab": {
          "base_uri": "https://localhost:8080/"
        },
        "id": "3eaa4c07",
        "outputId": "cd3ff402-0498-42a9-d38e-35bb042e0ba8"
      },
      "outputs": [
        {
          "name": "stderr",
          "output_type": "stream",
          "text": [
            "/usr/local/lib/python3.7/dist-packages/sklearn/base.py:451: UserWarning: X does not have valid feature names, but DecisionTreeRegressor was fitted with feature names\n",
            "  \"X does not have valid feature names, but\"\n"
          ]
        },
        {
          "data": {
            "text/plain": [
              "array([162044.17808219])"
            ]
          },
          "execution_count": 44,
          "metadata": {},
          "output_type": "execute_result"
        }
      ],
      "source": [
        "y_pred = regressor.predict(X)\n",
        "y_pred"
      ]
    },
    {
      "cell_type": "code",
      "execution_count": 45,
      "id": "8613c98f",
      "metadata": {
        "id": "8613c98f"
      },
      "outputs": [],
      "source": [
        "import pickle"
      ]
    },
    {
      "cell_type": "code",
      "execution_count": 46,
      "id": "581488aa",
      "metadata": {
        "id": "581488aa"
      },
      "outputs": [],
      "source": [
        "data = {\"model\": regressor, \"le_country\": le_country, \"le_education\": le_education}\n",
        "\n",
        "with open('saved_steps.pkl', 'wb') as file:\n",
        "    data = pickle.dump(data, file)\n"
      ]
    },
    {
      "cell_type": "code",
      "execution_count": 47,
      "id": "a5897cc2",
      "metadata": {
        "id": "a5897cc2"
      },
      "outputs": [],
      "source": [
        "    \n",
        "with open('saved_steps.pkl', 'rb') as file:\n",
        "    data = pickle.load(file)\n",
        "    \n",
        "regressor_loaded = data[\"model\"]\n",
        "le_country = data[\"le_country\"]\n",
        "le_education = data[\"le_education\"]"
      ]
    },
    {
      "cell_type": "code",
      "execution_count": 48,
      "id": "689475a9",
      "metadata": {
        "colab": {
          "base_uri": "https://localhost:8080/"
        },
        "id": "689475a9",
        "outputId": "0aca39be-7c71-4ef0-9664-499c9bc9d375"
      },
      "outputs": [
        {
          "name": "stderr",
          "output_type": "stream",
          "text": [
            "/usr/local/lib/python3.7/dist-packages/sklearn/base.py:451: UserWarning: X does not have valid feature names, but DecisionTreeRegressor was fitted with feature names\n",
            "  \"X does not have valid feature names, but\"\n"
          ]
        },
        {
          "data": {
            "text/plain": [
              "array([162044.17808219])"
            ]
          },
          "execution_count": 48,
          "metadata": {},
          "output_type": "execute_result"
        }
      ],
      "source": [
        "y_pred = regressor_loaded.predict(X)\n",
        "y_pred"
      ]
    },
    {
      "cell_type": "code",
      "execution_count": 48,
      "id": "7c2a0ed1",
      "metadata": {
        "id": "7c2a0ed1"
      },
      "outputs": [],
      "source": []
    },
    {
      "cell_type": "code",
      "execution_count": 48,
      "id": "b3570da8",
      "metadata": {
        "id": "b3570da8"
      },
      "outputs": [],
      "source": []
    }
  ],
  "metadata": {
    "colab": {
      "name": "Stack Overflow Annual Developer Survey Prediction.ipynb",
      "provenance": []
    },
    "kernelspec": {
      "display_name": "Python 3.8.8 ('anaconda3')",
      "language": "python",
      "name": "python3"
    },
    "language_info": {
      "codemirror_mode": {
        "name": "ipython",
        "version": 3
      },
      "file_extension": ".py",
      "mimetype": "text/x-python",
      "name": "python",
      "nbconvert_exporter": "python",
      "pygments_lexer": "ipython3",
      "version": "3.8.8"
    },
    "vscode": {
      "interpreter": {
        "hash": "0252c481d34ac53c1ac1678c9fe6fac13794176d753854d881303729516622a7"
      }
    }
  },
  "nbformat": 4,
  "nbformat_minor": 5
}
